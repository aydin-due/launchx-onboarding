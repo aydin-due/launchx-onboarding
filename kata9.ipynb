{
 "cells": [
  {
   "cell_type": "markdown",
   "metadata": {},
   "source": [
    "## Ejercicio 1: Uso de funciones en Python"
   ]
  },
  {
   "cell_type": "code",
   "execution_count": 9,
   "metadata": {},
   "outputs": [],
   "source": [
    "def informe_tanques(tanque1, tanque2, tanque3):\n",
    "    prom = round((tanque1+tanque2+tanque3)/3, 2)\n",
    "    informe = f\"\"\"INFORME DE TANQUES\n",
    "    Tanque 1:{tanque1}%\n",
    "    Tanque 2: {tanque2}%\n",
    "    Tanque 3: {tanque3}%\n",
    "    Promedio de tanques: {prom}% \"\"\"\n",
    "    return informe"
   ]
  },
  {
   "cell_type": "code",
   "execution_count": 10,
   "metadata": {},
   "outputs": [
    {
     "name": "stdout",
     "output_type": "stream",
     "text": [
      "INFORME DE TANQUES\n",
      "    Tanque 1:60%\n",
      "    Tanque 2: 78%\n",
      "    Tanque 3: 56%\n",
      "    Promedio de tanques: 64.67% \n"
     ]
    }
   ],
   "source": [
    "print(informe_tanques(60,78,56))"
   ]
  },
  {
   "cell_type": "code",
   "execution_count": 14,
   "metadata": {},
   "outputs": [],
   "source": [
    "def promedio_tanques(tanques):\n",
    "    prom= sum(tanques)/len(tanques)\n",
    "    return round(prom,2)"
   ]
  },
  {
   "cell_type": "code",
   "execution_count": 15,
   "metadata": {},
   "outputs": [],
   "source": [
    "def informe_tanques(tanque1, tanque2, tanque3):\n",
    "    prom = promedio_tanques([tanque1,tanque2,tanque3])\n",
    "    informe = f\"\"\"INFORME DE TANQUES\n",
    "    Tanque 1:{tanque1}%\n",
    "    Tanque 2: {tanque2}%\n",
    "    Tanque 3: {tanque3}%\n",
    "    Promedio de tanques: {prom}% \"\"\"\n",
    "    return informe"
   ]
  },
  {
   "cell_type": "code",
   "execution_count": 16,
   "metadata": {},
   "outputs": [
    {
     "name": "stdout",
     "output_type": "stream",
     "text": [
      "INFORME DE TANQUES\n",
      "    Tanque 1:60%\n",
      "    Tanque 2: 78%\n",
      "    Tanque 3: 56%\n",
      "    Promedio de tanques: 64.67% \n"
     ]
    }
   ],
   "source": [
    "print(informe_tanques(60,78,56))"
   ]
  },
  {
   "cell_type": "markdown",
   "metadata": {},
   "source": [
    "## Ejercicio 2: Trabajo con argumentos de palabra clave"
   ]
  },
  {
   "cell_type": "code",
   "execution_count": 19,
   "metadata": {},
   "outputs": [
    {
     "name": "stdout",
     "output_type": "stream",
     "text": [
      "INFORME DE MISIÓN\n",
      "    Misión a Marte\n",
      "    Tiempo total de vuelo: 65 horas\n",
      "    Tanques totales: 500000 galones\n",
      "    \n"
     ]
    }
   ],
   "source": [
    "def informe_mision(prelanzamiento, tiempo, destino, tanque_externo, tanque_interno):\n",
    "    informe = f\"\"\"INFORME DE MISIÓN\n",
    "    Misión a {destino}\n",
    "    Tiempo total de vuelo: {prelanzamiento+tiempo} horas\n",
    "    Tanques totales: {tanque_externo+tanque_interno} galones\n",
    "    \"\"\"\n",
    "    return informe\n",
    "\n",
    "print(informe_mision(14, 51, \"Marte\", 200000, 300000))"
   ]
  },
  {
   "cell_type": "code",
   "execution_count": 21,
   "metadata": {},
   "outputs": [
    {
     "name": "stdout",
     "output_type": "stream",
     "text": [
      "INFORME DE MISIÓN\n",
      "    Misión a Marte\n",
      "    Tiempo total de vuelo: 80 horas\n",
      "    Tanques totales: 4700000 galones\n",
      "    \n"
     ]
    }
   ],
   "source": [
    "def informe_mision(destino, *minutos, **tanques):\n",
    "    informe = f\"\"\"INFORME DE MISIÓN\n",
    "    Misión a {destino}\n",
    "    Tiempo total de vuelo: {sum(minutos)} horas\n",
    "    Tanques totales: {sum(tanques.values())} galones\n",
    "    \"\"\"\n",
    "    return informe\n",
    "\n",
    "print(informe_mision(\"Marte\", 12,45,23,tanque1=200000, tanque2=4500000))"
   ]
  },
  {
   "cell_type": "code",
   "execution_count": 27,
   "metadata": {},
   "outputs": [
    {
     "name": "stdout",
     "output_type": "stream",
     "text": [
      "INFORME DE MISIÓN\n",
      "    Misión a Marte\n",
      "    Tiempo total de vuelo: 80 horas\n",
      "    Tanque principal: 200000 galones \n",
      "    Tanque repuesto: 4500000 galones \n",
      "    \n"
     ]
    }
   ],
   "source": [
    "def informe_mision(destino, *minutos, **tanques):\n",
    "    informe = f\"\"\"INFORME DE MISIÓN\n",
    "    Misión a {destino}\n",
    "    Tiempo total de vuelo: {sum(minutos)} horas\n",
    "    \"\"\"\n",
    "    for k,v in tanques.items():\n",
    "        informe += f'Tanque {k}: {v} galones \\n    '\n",
    "    return informe\n",
    "\n",
    "print(informe_mision(\"Marte\", 12,45,23,principal=200000, repuesto=4500000))"
   ]
  }
 ],
 "metadata": {
  "interpreter": {
   "hash": "aee8b7b246df8f9039afb4144a1f6fd8d2ca17a180786b69acc140d282b71a49"
  },
  "kernelspec": {
   "display_name": "Python 3.10.2 64-bit",
   "language": "python",
   "name": "python3"
  },
  "language_info": {
   "codemirror_mode": {
    "name": "ipython",
    "version": 3
   },
   "file_extension": ".py",
   "mimetype": "text/x-python",
   "name": "python",
   "nbconvert_exporter": "python",
   "pygments_lexer": "ipython3",
   "version": "3.10.2"
  },
  "orig_nbformat": 4
 },
 "nbformat": 4,
 "nbformat_minor": 2
}
