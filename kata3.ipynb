{
 "cells": [
  {
   "cell_type": "markdown",
   "metadata": {},
   "source": [
    "## Ejercicio 1\n",
    "Escribir declaraciones if, else y elif"
   ]
  },
  {
   "cell_type": "code",
   "execution_count": 3,
   "metadata": {},
   "outputs": [
    {
     "name": "stdout",
     "output_type": "stream",
     "text": [
      "No hay noticias.\n"
     ]
    }
   ],
   "source": [
    "velocidad = 19\n",
    "if velocidad > 25:\n",
    "    print(\"Advertencia: un asteroide se acerca a la Tierra demasiado rápido.\")\n",
    "elif velocidad >= 20:\n",
    "    print(\"Alerta: hay una luz mágica en el cielo.\")\n",
    "else:\n",
    "    print(\"No hay noticias.\")"
   ]
  },
  {
   "cell_type": "markdown",
   "metadata": {},
   "source": [
    "## Ejercicio 2\n",
    "Uso de operadores and y or"
   ]
  },
  {
   "cell_type": "code",
   "execution_count": 6,
   "metadata": {},
   "outputs": [
    {
     "name": "stdout",
     "output_type": "stream",
     "text": [
      "Advertencia: un asteroide se acerca a la Tierra demasiado rápido.\n"
     ]
    }
   ],
   "source": [
    "velocidad = 19\n",
    "dimension = 26\n",
    "if velocidad > 25 or dimension > 25:\n",
    "    print(\"Advertencia: a la Tierra se acerca un asteroide que va demasiado rápido o es muy grande.\")\n",
    "elif velocidad >= 20:\n",
    "    print(\"Alerta: hay una luz mágica en el cielo.\")\n",
    "else:\n",
    "    print(\"No hay noticias.\")"
   ]
  }
 ],
 "metadata": {
  "interpreter": {
   "hash": "aee8b7b246df8f9039afb4144a1f6fd8d2ca17a180786b69acc140d282b71a49"
  },
  "kernelspec": {
   "display_name": "Python 3.10.2 64-bit",
   "language": "python",
   "name": "python3"
  },
  "language_info": {
   "codemirror_mode": {
    "name": "ipython",
    "version": 3
   },
   "file_extension": ".py",
   "mimetype": "text/x-python",
   "name": "python",
   "nbconvert_exporter": "python",
   "pygments_lexer": "ipython3",
   "version": "3.10.2"
  },
  "orig_nbformat": 4
 },
 "nbformat": 4,
 "nbformat_minor": 2
}
